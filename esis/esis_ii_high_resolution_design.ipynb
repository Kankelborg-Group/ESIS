{
 "cells": [
  {
   "cell_type": "code",
   "id": "4ec6a3aa1907639e",
   "metadata": {},
   "source": [
    "import numpy as np\n",
    "import matplotlib.pyplot as plt\n",
    "import astropy.units as u\n",
    "import astropy.visualization\n",
    "import named_arrays as na\n",
    "import optika\n",
    "import esis\n",
    "\n",
    "%matplotlib notebook\n",
    "\n",
    "astropy.visualization.quantity_support()"
   ],
   "outputs": [],
   "execution_count": null
  },
  {
   "cell_type": "code",
   "id": "a4ca003a-0a2e-4b32-a776-9cd0fd11b76f",
   "metadata": {},
   "source": [
    "grid = optika.vectors.ObjectVectorArray(\n",
    "    wavelength=na.linspace(-1, 1, axis=\"wavelength\", num=2) / 2,\n",
    "    field=0.99 * na.Cartesian2dVectorLinearSpace(\n",
    "        start=-1,\n",
    "        stop=1,\n",
    "        axis=na.Cartesian2dVectorArray(\"field_x\", \"field_y\"),\n",
    "        num=3,\n",
    "    ),\n",
    "    pupil=na.Cartesian2dVectorLinearSpace(\n",
    "        start=-1,\n",
    "        stop=1,\n",
    "        axis=na.Cartesian2dVectorArray(\"pupil_x\", \"pupil_y\"),\n",
    "        num=15,\n",
    "    ),\n",
    ")\n",
    "\n",
    "model = esis.flights.f2.optics.models.design_proposed_single(\n",
    "    grid=grid,\n",
    "    num_distribution=0,\n",
    "\n",
    ")\n",
    "\n",
    "# model = esis.flights.f1.optics.models.design_single(\n",
    "#     grid=grid,\n",
    "#     num_distribution=0,\n",
    "\n",
    "# )\n",
    "# model.system.transformation"
   ],
   "outputs": [],
   "execution_count": null
  },
  {
   "cell_type": "code",
   "id": "initial_id",
   "metadata": {},
   "source": [
    "fig, ax = plt.subplots(\n",
    "    figsize=(6, 6.5),\n",
    "    constrained_layout=True\n",
    ")\n",
    "ax.set_aspect(\"equal\")\n",
    "model.system.plot(\n",
    "    components=('z','x'),\n",
    "    color=\"black\",\n",
    "    kwargs_rays=dict(\n",
    "        color=na.ScalarArray(np.array([\"tab:orange\", \"tab:blue\"]), axes=\"wavelength\"),\n",
    "        label=model.system.grid_input.wavelength.astype(int),\n",
    "    ),\n",
    ");\n",
    "handles, labels = ax.get_legend_handles_labels()\n",
    "labels = dict(zip(labels, handles))\n",
    "fig.legend(labels.values(), labels.keys());"
   ],
   "outputs": [],
   "execution_count": null
  },
  {
   "cell_type": "code",
   "id": "f7effeb60c0a1098",
   "metadata": {},
   "source": [
    "fig, ax = plt.subplots()\n",
    "\n",
    "detector = model.system.surfaces_all[-1]\n",
    "detector_plot = detector.plot(\n",
    "    components=('x', 'y'),\n",
    "    ax=ax,\n",
    "    transformation=detector.transformation.inverse,\n",
    ")\n",
    "\n",
    "rays = model.system.rayfunction_default.outputs\n",
    "rays = detector.transformation.inverse(rays)\n",
    "na.plt.scatter(\n",
    "    rays.position.x.to(u.um),\n",
    "    rays.position.y.to(u.um),\n",
    "    # c=na.linspace(-1, 1, 'slit', 3),\n",
    "    where=rays.unvignetted,\n",
    "    ax=ax,\n",
    ")\n",
    "\n",
    "\n",
    "\n"
   ],
   "outputs": [],
   "execution_count": null
  },
  {
   "cell_type": "code",
   "id": "819306666b415222",
   "metadata": {},
   "source": [
    "x = rays.position.x\n",
    "x = x - x.mean(axis=('pupil_x', 'pupil_y'))\n",
    "y = rays.position.y\n",
    "y = y - y.mean(axis=('pupil_x', 'pupil_y'))\n",
    "rms_spot_size = np.sqrt(np.square(x) + np.square(y))\n",
    "rms_spot_size.mean().to(u.um)\n"
   ],
   "outputs": [],
   "execution_count": null
  },
  {
   "cell_type": "code",
   "id": "b56ac9ece48714cd",
   "metadata": {},
   "source": [
    "delta_z = model.field_stop.translation.z-model.grating.translation.z\n",
    "delta_r = model.grating.distance_radial\n",
    "theta = np.arctan2(delta_r,delta_z)\n",
    "theta.to(u.deg)"
   ],
   "outputs": [],
   "execution_count": null
  },
  {
   "cell_type": "code",
   "id": "048302f5-c9dc-4b55-8ac3-a2e1d61ccb6d",
   "metadata": {},
   "source": [
    "alpha = theta + model.grating.yaw\n",
    "alpha.to(u.deg)"
   ],
   "outputs": [],
   "execution_count": null
  },
  {
   "cell_type": "code",
   "id": "b024d8f0-e42c-4204-ab35-4c0c327b5a56",
   "metadata": {},
   "source": [
    "grating_r = na.linspace(-20 * u.mm, 20 * u.mm, 11)\n",
    "line_spacing = 1/model.grating.rulings.spacing(\n",
    "        position=na.Cartesian3dVectorArray(\n",
    "            x = na.linspace(-20 * u.mm, 20 * u.mm, 11),\n",
    "            y= 0 * u.mm,\n",
    "            z = 0 * u.mm,\n",
    "            )\n",
    "    )\n",
    "\n",
    "fig, ax =plt.subplots()\n",
    "na.plt.plot(grating_r,line_spacing.x,ax=ax)\n",
    "\n",
    "wavelength = na.ScalarArray([465, 499] * u.AA, axes='wavelength')\n",
    "\n",
    "beta = np.arcsin(np.sin(alpha) + wavelength.mean()/model.grating.rulings.spacing(position=na.Cartesian3dVectorArray()*u.mm).length)\n",
    "beta.to(u.deg)"
   ],
   "outputs": [],
   "execution_count": null
  },
  {
   "cell_type": "code",
   "id": "70c4f992-b251-4405-b439-933640b2791e",
   "metadata": {},
   "source": [
    "image_z = model.detector.translation.z-model.grating.translation.z\n",
    "image_r = model.detector.distance_radial - delta_r\n",
    "beta = np.arctan2(image_r,image_z)-model.grating.yaw\n",
    "beta.to(u.deg)"
   ],
   "outputs": [],
   "execution_count": null
  },
  {
   "cell_type": "code",
   "id": "123c7dc1-ce1c-4cdc-8c27-eb05a2b27011",
   "metadata": {},
   "source": [],
   "outputs": [],
   "execution_count": null
  },
  {
   "cell_type": "code",
   "id": "24876934-0df6-4f97-b5d7-4a74e76bda2f",
   "metadata": {},
   "source": [],
   "outputs": [],
   "execution_count": null
  },
  {
   "cell_type": "code",
   "id": "aab39678bbdd95f7",
   "metadata": {},
   "source": [
    "object_distance = np.sqrt(\n",
    "    np.square(model.grating.translation.z - model.field_stop.translation.z) + np.square(model.grating.distance_radial))\n",
    "image_distance = np.sqrt(np.square(model.grating.translation.z - model.detector.translation.z) +\n",
    "                         np.square(model.grating.distance_radial - model.detector.distance_radial)\n",
    "                         )\n",
    "magnification = image_distance / object_distance\n",
    "magnification\n"
   ],
   "outputs": [],
   "execution_count": null
  },
  {
   "cell_type": "code",
   "id": "5ada8db0e78e5434",
   "metadata": {},
   "source": [
    "print(model.primary_mirror.translation.z)\n",
    "print(model.field_stop.translation.z)\n",
    "print(model.grating.translation.z)\n",
    "print(model.detector.translation.z)"
   ],
   "outputs": [],
   "execution_count": null
  },
  {
   "cell_type": "code",
   "id": "e2651f274697d5a7",
   "metadata": {},
   "source": [],
   "outputs": [],
   "execution_count": null
  },
  {
   "cell_type": "code",
   "id": "e73748e4decd044",
   "metadata": {},
   "source": [],
   "outputs": [],
   "execution_count": null
  },
  {
   "cell_type": "code",
   "id": "4e5258591a040f16",
   "metadata": {},
   "source": [
    "hole_spacing = 4 * 25.4 * u.mm\n",
    "hole_spacing.to(u.mm)"
   ],
   "outputs": [],
   "execution_count": null
  },
  {
   "cell_type": "code",
   "id": "d77f48cf4c97d6c1",
   "metadata": {},
   "source": [
    "new_primary_f = model.primary_mirror.sag.focal_length - hole_spacing * 6\n",
    "new_primary_f\n"
   ],
   "outputs": [],
   "execution_count": null
  },
  {
   "cell_type": "code",
   "id": "7899709be82bea81",
   "metadata": {},
   "source": [
    "new_fs_z = new_primary_f\n",
    "new_fs_z"
   ],
   "outputs": [],
   "execution_count": null
  },
  {
   "cell_type": "code",
   "id": "31492eceef6c3062",
   "metadata": {},
   "source": [
    "extension_ratio = new_primary_f / model.primary_mirror.sag.focal_length\n",
    "extension_ratio"
   ],
   "outputs": [],
   "execution_count": null
  },
  {
   "cell_type": "code",
   "id": "1b7c873b69a1166e",
   "metadata": {},
   "source": [
    "old_grating_z = model.grating.translation.z - model.field_stop.translation.z\n",
    "print(old_grating_z)\n",
    "print(model.field_stop.translation.z)\n",
    "print(model.grating.translation.z)\n",
    "new_grating_z = old_grating_z * extension_ratio + new_fs_z\n",
    "print(new_grating_z)"
   ],
   "outputs": [],
   "execution_count": null
  },
  {
   "cell_type": "code",
   "id": "b584e14136fe785d",
   "metadata": {},
   "source": [
    "model.primary_mirror.sag.focal_length = new_primary_f\n",
    "model.field_stop.translation.z = new_fs_z\n",
    "model.grating.translation.z = new_grating_z + 30 * u.mm"
   ],
   "outputs": [],
   "execution_count": null
  },
  {
   "metadata": {},
   "cell_type": "code",
   "source": [
    "print(model.primary_mirror.translation.z)\n",
    "print(model.field_stop.translation.z)\n",
    "print(model.grating.translation.z)\n",
    "print(model.detector.translation.z)"
   ],
   "id": "5b4013caef461b6b",
   "outputs": [],
   "execution_count": null
  },
  {
   "cell_type": "code",
   "id": "e8ee89f1f67793cf",
   "metadata": {},
   "source": "model.grating.translation.z",
   "outputs": [],
   "execution_count": null
  },
  {
   "cell_type": "code",
   "id": "68f0bad9d94aee5f",
   "metadata": {},
   "source": [
    "object_distance = np.sqrt(\n",
    "    np.square(model.grating.translation.z - model.field_stop.translation.z) + np.square(model.grating.distance_radial))\n",
    "image_distance = np.sqrt(np.square(model.grating.translation.z - model.detector.translation.z) +\n",
    "                         np.square(model.grating.distance_radial - model.detector.distance_radial)\n",
    "                         )\n",
    "magnification = image_distance / object_distance\n",
    "print(magnification)\n",
    "\n",
    "print(object_distance)\n",
    "print(image_distance)"
   ],
   "outputs": [],
   "execution_count": null
  },
  {
   "cell_type": "code",
   "id": "fa0b0d7b47f9e4de",
   "metadata": {},
   "source": [
    "new_grating_f = image_distance * object_distance / (image_distance + object_distance)\n",
    "print(-2*new_grating_f)\n",
    "print(model.grating.sag.radius)"
   ],
   "outputs": [],
   "execution_count": null
  },
  {
   "cell_type": "code",
   "id": "08f1363e-3f41-4b26-9b8d-087a14cb7d94",
   "metadata": {},
   "source": [
    "print(-2*new_grating_f/model.grating.sag.radius)"
   ],
   "outputs": [],
   "execution_count": null
  },
  {
   "cell_type": "code",
   "id": "e7ea79eb-0eb1-4321-be85-be971c21bebf",
   "metadata": {},
   "source": [
    "model.grating.sag.radius = -2 * new_grating_f.nominal * 0.9975\n",
    "\n",
    "model.grating.yaw = -2.51 * u.deg\n",
    "\n",
    "c0 = 1 / (1850 / u.mm)\n",
    "c1 = -2.852e-5 * (u.um / u.mm)\n",
    "c2 = -2.112e-7 * (u.um / u.mm ** 2)\n",
    "\n",
    "model.grating.rulings.spacing.coefficients[0].nominal = c0\n",
    "model.grating.rulings.spacing.coefficients[1].nominal = c1\n",
    "model.grating.rulings.spacing.coefficients[2].nominal = c2"
   ],
   "outputs": [],
   "execution_count": null
  },
  {
   "cell_type": "code",
   "id": "bc93d38043a2b9bd",
   "metadata": {},
   "source": [
    "# print(model.primary_mirror.translation.z)\n",
    "# print(model.field_stop.transformation)\n",
    "# print(model.grating.translation.z)\n",
    "# print(model.detector.translation.z)\n",
    "\n",
    "model.central_obscuration.translation.z = model.grating.translation.z - 25 * u.mm\n",
    "model.front_aperture.translation.z = model.grating.translation.z - 100 * u.mm"
   ],
   "outputs": [],
   "execution_count": null
  },
  {
   "cell_type": "code",
   "id": "38580a335affb1ee",
   "metadata": {},
   "source": [
    "model.filter.radius_clear = 40 * u.mm"
   ],
   "outputs": [],
   "execution_count": null
  },
  {
   "cell_type": "code",
   "id": "826dcee37f03ae8",
   "metadata": {},
   "source": [
    "model.detector.yaw"
   ],
   "outputs": [],
   "execution_count": null
  },
  {
   "cell_type": "code",
   "id": "98cbb006432051d9",
   "metadata": {},
   "source": [
    "del model.system\n",
    "\n",
    "wavelength = na.ScalarArray([465, 499] * u.AA, axes='wavelength')\n",
    "# model.grating.sag.radius = - 9.17468102e+02 * u.mm\n",
    "# rays = model.system.raytrace(wavelength=wavelength)\n",
    "# rays.outputs.shape"
   ],
   "outputs": [],
   "execution_count": null
  },
  {
   "cell_type": "code",
   "id": "6575205e0a25084e",
   "metadata": {},
   "source": [],
   "outputs": [],
   "execution_count": null
  },
  {
   "cell_type": "code",
   "id": "cba946afa6ae24a7",
   "metadata": {},
   "source": [
    "fig, ax = plt.subplots(\n",
    "    figsize=(6, 6.5),\n",
    "    constrained_layout=True\n",
    ")\n",
    "# ax.set_aspect(\"equal\")\n",
    "model.system.plot(\n",
    "    components=(\"z\", \"x\"),\n",
    "    color=\"black\",\n",
    "    kwargs_rays=dict(\n",
    "        color=na.ScalarArray(np.array([\"tab:orange\", \"tab:blue\"]), axes=\"wavelength\"),\n",
    "        label=model.system.grid_input.wavelength.astype(int),\n",
    "    ),\n",
    "    # plot_rays_vignetted=True,\n",
    "    # wavelength=wavelength,\n",
    ")\n",
    "handles, labels = ax.get_legend_handles_labels()\n",
    "labels = dict(zip(labels, handles))\n",
    "fig.legend(labels.values(), labels.keys());"
   ],
   "outputs": [],
   "execution_count": null
  },
  {
   "cell_type": "code",
   "id": "7ec069f6074c390a",
   "metadata": {},
   "source": [
    "fig, ax = plt.subplots()\n",
    "\n",
    "detector = model.system.surfaces_all[-1]\n",
    "detector_plot = detector.plot(\n",
    "    components=('x', 'y'),\n",
    "    ax=ax,\n",
    "    transformation=detector.transformation.inverse,\n",
    "    # transformation=None,\n",
    ")\n",
    "\n",
    "rays = model.system.raytrace(wavelength=wavelength).outputs[dict(surface=-1)]\n",
    "\n",
    "rays = detector.transformation.inverse(rays)\n",
    "na.plt.scatter(\n",
    "    rays.position.x,\n",
    "    rays.position.y,\n",
    "    where=rays.unvignetted,\n",
    ")\n"
   ],
   "outputs": [],
   "execution_count": null
  },
  {
   "cell_type": "code",
   "id": "f7855b3745989477",
   "metadata": {},
   "source": [
    "x = rays.position.x\n",
    "x = x - x.mean(axis=('pupil_x', 'pupil_y'))\n",
    "y = rays.position.y\n",
    "y = y - y.mean(axis=('pupil_x', 'pupil_y'))\n",
    "rms_spot_size = np.sqrt(np.square(x) + np.square(y))\n",
    "rms_spot_size.mean().to(u.um)"
   ],
   "outputs": [],
   "execution_count": null
  },
  {
   "cell_type": "code",
   "id": "680da259-3617-400a-8c5b-5eb63a2f427e",
   "metadata": {},
   "source": [
    "np.abs(rays.position[dict(wavelength=0)].x.mean()) - 8 * u.mm"
   ],
   "outputs": [],
   "execution_count": null
  },
  {
   "cell_type": "code",
   "id": "a54269f9-b5c5-45d0-a246-9c2d121bf448",
   "metadata": {},
   "source": [
    "np.abs(rays.position[dict(wavelength=1)].x.mean()) - 8 * u.mm"
   ],
   "outputs": [],
   "execution_count": null
  },
  {
   "cell_type": "code",
   "id": "f8e154ed4a1c0f39",
   "metadata": {},
   "source": [
    "def esis_ii_merit(\n",
    "        guesses,\n",
    "        model=None,\n",
    "        # wavelength = None, \n",
    "        weight=None,\n",
    "        # units = None\n",
    "):\n",
    "    # guess = [guess*unit for guess,unit in zip(guesses,units)]\n",
    "    # print(guesses)\n",
    "    # grating_yaw, grating_c0, grating_c1, grating_c2, grating_roc, detector_yaw = guesses\n",
    "    grating_yaw, grating_c0, grating_c1, grating_c2, grating_roc = guesses\n",
    "\n",
    "\n",
    "    model.grating.yaw = grating_yaw * u.deg\n",
    "    model.grating.rulings.spacing.coefficients[0] = grating_c0 * u.mm\n",
    "    model.grating.rulings.spacing.coefficients[1] = grating_c1 * u.um / u.mm\n",
    "    model.grating.rulings.spacing.coefficients[2] = grating_c2 * u.um / u.mm ** 2\n",
    "    model.grating.sag.radius = grating_roc * u.mm\n",
    "    # model.detector.yaw = detector_yaw * u.deg\n",
    "\n",
    "    wavelength = na.ScalarArray([465, 499] * u.AA, axes='wavelength')\n",
    "\n",
    "    del model.system\n",
    "    rays = model.system.raytrace(wavelength=wavelength).outputs[dict(surface=-1)]\n",
    "    detector = model.system.surfaces_all[-1]\n",
    "\n",
    "    rays = detector.transformation.inverse(rays)\n",
    "\n",
    "    x = rays.position.x\n",
    "    x = x - x.mean(axis=('pupil_x', 'pupil_y'))\n",
    "    y = rays.position.y\n",
    "    y = y - y.mean(axis=('pupil_x', 'pupil_y'))\n",
    "\n",
    "    r_squared = np.square(x) + np.square(y)\n",
    "    rms_spot_size = np.sqrt(r_squared)\n",
    "\n",
    "    t1 = np.abs(rays.position[dict(wavelength=0)].x.mean()) - 7.35 * u.mm\n",
    "    t2 = np.abs(rays.position[dict(wavelength=-1)].x.mean()) - 7.35 * u.mm\n",
    "\n",
    "    t = rms_spot_size.mean().nominal\n",
    "    merit = t + weight * np.sqrt(np.square(t1.nominal) + np.square(t2.nominal))\n",
    "\n",
    "    # print(t.value, t1.nominal.value, t2.nominal.value)\n",
    "    print(merit.ndarray.value)\n",
    "    return merit.ndarray.value\n",
    "\n",
    "\n",
    "\n"
   ],
   "outputs": [],
   "execution_count": null
  },
  {
   "cell_type": "code",
   "id": "1480912c54bfb959",
   "metadata": {},
   "source": [
    "model.grating.sag.radius"
   ],
   "outputs": [],
   "execution_count": null
  },
  {
   "cell_type": "code",
   "id": "340d2868febb39be",
   "metadata": {},
   "source": [
    "from scipy.optimize import minimize, differential_evolution\n",
    "\n",
    "guess = [\n",
    "    model.grating.yaw,\n",
    "    model.grating.rulings.spacing.coefficients[0].nominal,\n",
    "    model.grating.rulings.spacing.coefficients[1].nominal,\n",
    "    model.grating.rulings.spacing.coefficients[2].nominal,\n",
    "    model.grating.sag.radius,\n",
    "    # model.detector.yaw\n",
    "]\n",
    "guess_units = [g.unit for g in guess]\n",
    "print(guess_units)\n",
    "\n",
    "guess_values = [g.value for g in guess]\n",
    "# guess_values = [-2.47016209e+00, 5.49599486e-04, -1.80866504e-05, -1.08341748e-07,\n",
    "#                 -9.17468102e+02, -1.04771264e+01]\n",
    "# guess_values = [-2.47016209e+00, 5.49599486e-04, -1.80866504e-05, -1.08341748e-07,\n",
    "                # -9.17468102e+02]\n",
    "\n",
    "print(guess_values)\n"
   ],
   "outputs": [],
   "execution_count": null
  },
  {
   "cell_type": "code",
   "id": "4b93b7c488280c09",
   "metadata": {},
   "source": [],
   "outputs": [],
   "execution_count": null
  },
  {
   "cell_type": "code",
   "id": "41a21670-fb23-4636-895d-8502278fc7e5",
   "metadata": {
    "scrolled": true
   },
   "source": [
    "esis_ii_merit(guess_values, model=model, weight=1)\n",
    "\n",
    "# bounds = [(-2.6, -2.45), (1 / 1900, 1 / 1800), (-3e-5, -1e-5), (-2.15e-7, -1e-7), (917, 921), (-15, -10)]\n",
    "# bounds = [(-2.54, -2.48), (1 / 1860, 1 / 1840), (-2.9e-5, -2.7e-5), (-2.15e-7, -2e-7), (-917, -915)]\n",
    "bounds = [(-2.6, -2.45), (1 / 1900, 1 / 1800), (-3e-5, -1e-5), (-2.15e-7, -1e-7), (-918, -914)]\n",
    "\n",
    "\n",
    "\n",
    "# fit = minimize(esis_ii_merit, guess_values, (model, 1),\n",
    "#                bounds=bounds,\n",
    "#                )\n",
    "# w = 15\n",
    "# fit = differential_evolution(esis_ii_merit,x0=guess_values,args = (model,1),bounds=bounds,\n",
    "#                              workers=w,\n",
    "#                              polish=False,\n",
    "#                             )"
   ],
   "outputs": [],
   "execution_count": null
  },
  {
   "cell_type": "code",
   "id": "53b90952-cc08-4499-8597-cceaef6b5483",
   "metadata": {},
   "source": [
    "# print(fit.x)"
   ],
   "outputs": [],
   "execution_count": null
  },
  {
   "cell_type": "code",
   "id": "53da53b4-914d-41b6-9ee9-758bacd5ddce",
   "metadata": {},
   "source": [
    "guess = [-2.45125246e+00,  5.53764773e-04, -1.83548407e-05, -1.17579027e-07,\n",
    " -9.17485462e+02]"
   ],
   "outputs": [],
   "execution_count": null
  },
  {
   "cell_type": "code",
   "id": "e4f4e3ed-1c29-4798-9e1c-2a6e2965870b",
   "metadata": {},
   "source": [
    "# guess = [-2.53962948e+00, 5.34862656e-04, -2.10590822e-05, -1.94958850e-07,\n",
    "#          9.18952281e+02, -1.22332163e+01]\n",
    "\n",
    "# guess = [-2.47016209e+00, 5.49599486e-04, -1.80866504e-05, -1.08341748e-07,\n",
    "#          9.17468102e+02, -1.04771264e+01]\n",
    "\n",
    "# guess = [-2.50429148e+00,  5.41200713e-04 ,-2.77220822e-05 ,-2.02847671e-07,\n",
    "#  -9.16287793e+02]\n",
    "# # guess = [-2.53962948e+00,  0, 0, 0,\n",
    "# #   9.1895221e+02, 0]\n",
    "\n",
    "# grating_yaw, grating_c0, grating_c1, grating_c2, grating_roc = fit.x\n",
    "grating_yaw, grating_c0, grating_c1, grating_c2, grating_roc = guess\n",
    "\n",
    "model.grating.yaw = grating_yaw * u.deg\n",
    "model.grating.rulings.spacing.coefficients[0] = grating_c0 * u.mm\n",
    "model.grating.rulings.spacing.coefficients[1] = grating_c1 * u.um / u.mm\n",
    "model.grating.rulings.spacing.coefficients[2] = grating_c2 * u.um / u.mm ** 2\n",
    "model.grating.sag.radius = grating_roc * u.mm\n"
   ],
   "outputs": [],
   "execution_count": null
  },
  {
   "cell_type": "code",
   "id": "529e166965bad0a",
   "metadata": {},
   "source": "model.grating.sag",
   "outputs": [],
   "execution_count": null
  },
  {
   "cell_type": "code",
   "id": "1aaa02d5-02ba-4074-a29a-3237ac558ccb",
   "metadata": {
    "scrolled": true
   },
   "source": [
    "del model.system\n",
    "model.system.raytrace(wavelength=wavelength)"
   ],
   "outputs": [],
   "execution_count": null
  },
  {
   "cell_type": "code",
   "id": "47658102-e43c-47c2-ae0a-2ed505a73c3a",
   "metadata": {},
   "source": [
    "fig, ax = plt.subplots(\n",
    "    figsize=(6, 6.5),\n",
    "    constrained_layout=True\n",
    ")\n",
    "ax.set_aspect(\"equal\")\n",
    "model.system.plot(\n",
    "    components=(\"z\", \"x\"),\n",
    "    color=\"black\",\n",
    "    kwargs_rays=dict(\n",
    "        color=na.ScalarArray(np.array([\"tab:orange\", \"tab:blue\"]), axes=\"wavelength\"),\n",
    "        label=model.system.grid_input.wavelength.astype(int),\n",
    "    ),\n",
    "    plot_rays_vignetted=False,\n",
    "    # wavelength=wavelength,\n",
    ")\n",
    "handles, labels = ax.get_legend_handles_labels()\n",
    "labels = dict(zip(labels, handles))\n",
    "fig.legend(labels.values(), labels.keys());"
   ],
   "outputs": [],
   "execution_count": null
  },
  {
   "cell_type": "code",
   "id": "7d3cef3c64027e8a",
   "metadata": {},
   "source": "model.detector",
   "outputs": [],
   "execution_count": null
  },
  {
   "metadata": {},
   "cell_type": "code",
   "source": [
    "fig, ax = plt.subplots()\n",
    "\n",
    "pixel_size = model.detector.width_pixels\n",
    "\n",
    "detector = model.system.surfaces_all[-1]\n",
    "detector_plot = detector.plot(\n",
    "    components=('x', 'y'),\n",
    "    ax=ax,\n",
    "    transformation=detector.transformation.inverse,\n",
    "    # transformation=None,\n",
    ")\n",
    "del model.system\n",
    "print(wavelength)\n",
    "rays = model.system.raytrace(wavelength=wavelength).outputs[dict(surface=-1)]\n",
    "\n",
    "rays = detector.transformation.inverse(rays)\n",
    "na.plt.scatter(\n",
    "    rays.position.x,\n",
    "    rays.position.y,\n",
    "    where=rays.unvignetted,\n",
    ")"
   ],
   "id": "894e7cb4e5b4076",
   "outputs": [],
   "execution_count": null
  },
  {
   "cell_type": "code",
   "id": "a2a13a1aac6c1975",
   "metadata": {},
   "source": [
    "x = rays.position.x\n",
    "x = x - x.mean(axis=('pupil_x', 'pupil_y'))\n",
    "y = rays.position.y\n",
    "y = y - y.mean(axis=('pupil_x', 'pupil_y'))\n",
    "rms_spot_size = np.sqrt(np.square(x) + np.square(y))\n",
    "rms_spot_size.mean(axis=('pupil_x','pupil_y')).to(u.um)"
   ],
   "outputs": [],
   "execution_count": null
  },
  {
   "cell_type": "code",
   "id": "e48833d01c6c6433",
   "metadata": {},
   "source": [
    "np.abs(rays.position[dict(wavelength=0)].x.mean()) - 8 * u.mm"
   ],
   "outputs": [],
   "execution_count": null
  },
  {
   "cell_type": "code",
   "id": "14315123-2a8e-4511-bed5-1666090e9074",
   "metadata": {},
   "source": [
    "np.abs(rays.position[dict(wavelength=1)].x.mean()) - 8 * u.mm"
   ],
   "outputs": [],
   "execution_count": null
  },
  {
   "cell_type": "code",
   "id": "2801557b98822b03",
   "metadata": {},
   "source": [
    "import astropy.constants as const\n",
    "from plasmapy.formulary.speeds import thermal_speed\n",
    "thermal_speed(T=.5*u.MK,particle='Ne')\n"
   ],
   "outputs": [],
   "execution_count": null
  },
  {
   "metadata": {},
   "cell_type": "code",
   "source": [
    "\n",
    "#Plate Scale Calc\n",
    "delta_wv = wavelength[dict(wavelength=1)]-wavelength[dict(wavelength=0)]\n",
    "delta_x = rays.position.x[dict(wavelength=1)].mean() - rays.position.x[dict(wavelength=0)].mean()\n",
    "delta_x = delta_x / model.detector.width_pixels * u.pixel\n",
    "spectral_plate_scale = delta_wv/delta_x.to(u.pixel)\n",
    "(spectral_plate_scale/wavelength*const.c).to(u.km/u.s/u.pixel)\n"
   ],
   "id": "ef6c2abadfecc54a",
   "outputs": [],
   "execution_count": null
  },
  {
   "metadata": {},
   "cell_type": "code",
   "source": [
    "object_distance = np.sqrt(\n",
    "    np.square(model.grating.translation.z - model.field_stop.translation.z) + np.square(model.grating.distance_radial))\n",
    "image_distance = np.sqrt(np.square(model.grating.translation.z - model.detector.translation.z) +\n",
    "                         np.square(model.grating.distance_radial - model.detector.distance_radial)\n",
    "                         )\n",
    "magnification = image_distance / object_distance\n",
    "spatial_plate_scale = model.detector.width_pixels / (magnification*model.primary_mirror.sag.focal_length) * u.rad\n",
    "print(spatial_plate_scale.to(u.arcsec))"
   ],
   "id": "51949310bf848eab",
   "outputs": [],
   "execution_count": null
  },
  {
   "metadata": {},
   "cell_type": "code",
   "source": "model.grating.translation",
   "id": "5076a369-13ec-4cbe-a5f4-8b14f004a719",
   "outputs": [],
   "execution_count": null
  },
  {
   "cell_type": "code",
   "id": "a05938943de4ece4",
   "metadata": {},
   "source": "model.field_stop.translation",
   "outputs": [],
   "execution_count": null
  },
  {
   "metadata": {},
   "cell_type": "code",
   "source": "model.grating.translation - model.field_stop.translation",
   "id": "9aa6df5febbbc016",
   "outputs": [],
   "execution_count": null
  },
  {
   "metadata": {},
   "cell_type": "code",
   "source": "model.grating.distance_radial",
   "id": "10e0c845-413e-4dc7-b223-57510d699ba3",
   "outputs": [],
   "execution_count": null
  },
  {
   "cell_type": "code",
   "id": "4c7f94df-e1ba-408f-ae3c-df522a7450fb",
   "metadata": {},
   "source": [
    "model.grating.yaw"
   ],
   "outputs": [],
   "execution_count": null
  },
  {
   "cell_type": "code",
   "id": "17b97f33-d559-4bbd-90d4-6a254c284376",
   "metadata": {},
   "source": [
    "model.field_stop.translation"
   ],
   "outputs": [],
   "execution_count": null
  },
  {
   "cell_type": "code",
   "id": "5d156441-43b1-4dbf-8f61-90575bc3787b",
   "metadata": {},
   "source": [
    "delta_z = model.field_stop.translation.z-model.grating.translation.z\n",
    "delta_r = model.grating.distance_radial\n",
    "theta = np.arctan2(delta_r,delta_z)\n",
    "theta.to(u.deg)"
   ],
   "outputs": [],
   "execution_count": null
  },
  {
   "cell_type": "code",
   "id": "d36ea684-fdab-4e4b-a0f9-8ebfbf77a8d0",
   "metadata": {},
   "source": [
    "alpha = theta + model.grating.yaw\n",
    "alpha.to(u.deg)"
   ],
   "outputs": [],
   "execution_count": null
  },
  {
   "cell_type": "code",
   "id": "6c1fa0c4-a097-48bc-aa6a-360018634668",
   "metadata": {},
   "source": [
    "grating_r = na.linspace(-20 * u.mm, 20 * u.mm, 11)\n",
    "line_spacing = 1/model.grating.rulings.spacing(\n",
    "        position=na.Cartesian3dVectorArray(\n",
    "            x = na.linspace(-20 * u.mm, 20 * u.mm, 11),\n",
    "            y= 0 * u.mm,\n",
    "            z = 0 * u.mm,\n",
    "            )\n",
    "    )\n",
    "\n",
    "fig, ax =plt.subplots()\n",
    "na.plt.plot(grating_r,line_spacing.x,ax=ax)\n",
    "\n",
    "wavelength"
   ],
   "outputs": [],
   "execution_count": null
  },
  {
   "cell_type": "code",
   "id": "fbf200e7-669d-49d3-8cd9-c726bf13eb8a",
   "metadata": {},
   "source": [
    "beta = np.arcsin(np.sin(alpha) + wavelength.mean()/model.grating.rulings.spacing(position=na.Cartesian3dVectorArray()*u.mm).length)\n",
    "beta.to(u.deg)"
   ],
   "outputs": [],
   "execution_count": null
  },
  {
   "cell_type": "code",
   "id": "a5176bbc-f1b0-409e-926e-cfd9f165d01b",
   "metadata": {},
   "source": [
    "image_z = model.detector.translation.z-model.grating.translation.z\n",
    "image_r = model.detector.distance_radial - delta_r\n",
    "beta = np.arctan2(image_r,image_z)-model.grating.yaw\n",
    "beta.to(u.deg)"
   ],
   "outputs": [],
   "execution_count": null
  },
  {
   "cell_type": "code",
   "id": "325db67e-bae2-463d-85fa-6858e70088e2",
   "metadata": {},
   "source": [],
   "outputs": [],
   "execution_count": null
  },
  {
   "cell_type": "code",
   "id": "47abce43-3f4d-49c9-b205-90260b3fd5ec",
   "metadata": {},
   "source": [],
   "outputs": [],
   "execution_count": null
  },
  {
   "metadata": {},
   "cell_type": "markdown",
   "source": "Mirror Specification",
   "id": "279fdc6973395815"
  },
  {
   "metadata": {},
   "cell_type": "code",
   "source": "primary_slope_error = 1 * u.urad",
   "id": "a4c1c193287384e1",
   "outputs": [],
   "execution_count": null
  },
  {
   "metadata": {},
   "cell_type": "code",
   "source": "model.primary_mirror.radius_clear",
   "id": "e455a3e9e0711830",
   "outputs": [],
   "execution_count": null
  },
  {
   "metadata": {},
   "cell_type": "code",
   "source": [
    "sub_aperture = wavelength / np.tan(primary_slope_error)\n",
    "sub_aperture = sub_aperture.to(u.mm)\n",
    "sub_aperture"
   ],
   "id": "ff410e8482fc1e",
   "outputs": [],
   "execution_count": null
  },
  {
   "metadata": {},
   "cell_type": "code",
   "source": "",
   "id": "d613a0589200fa9d",
   "outputs": [],
   "execution_count": null
  }
 ],
 "metadata": {
  "kernelspec": {
   "display_name": "Python 3 (ipykernel)",
   "language": "python",
   "name": "python3"
  },
  "language_info": {
   "codemirror_mode": {
    "name": "ipython",
    "version": 3
   },
   "file_extension": ".py",
   "mimetype": "text/x-python",
   "name": "python",
   "nbconvert_exporter": "python",
   "pygments_lexer": "ipython3",
   "version": "3.12.7"
  }
 },
 "nbformat": 4,
 "nbformat_minor": 5
}
