{
 "cells": [
  {
   "cell_type": "code",
   "id": "4ec6a3aa1907639e",
   "metadata": {
    "collapsed": true
   },
   "source": [
    "import numpy as np\n",
    "import matplotlib.pyplot as plt\n",
    "import astropy.units as u\n",
    "import astropy.visualization\n",
    "import named_arrays as na\n",
    "import optika\n",
    "import esis\n",
    "\n",
    "%matplotlib notebook"
   ],
   "outputs": [],
   "execution_count": null
  },
  {
   "metadata": {},
   "cell_type": "code",
   "source": [
    "\n",
    "\n",
    "grid = optika.vectors.ObjectVectorArray(\n",
    "    wavelength=na.linspace(-1, 1, axis=\"wavelength\", num=2) / 2,\n",
    "    field=0.99 * na.Cartesian2dVectorLinearSpace(\n",
    "        start=-1,\n",
    "        stop=1,\n",
    "        axis=na.Cartesian2dVectorArray(\"field_x\", \"field_y\"),\n",
    "        num=3,\n",
    "    ),\n",
    "    pupil=na.Cartesian2dVectorLinearSpace(\n",
    "        start=-1,\n",
    "        stop=1,\n",
    "        axis=na.Cartesian2dVectorArray(\"pupil_x\", \"pupil_y\"),\n",
    "        num=25,\n",
    "    ),\n",
    ")\n",
    "\n",
    "model = esis.flights.f2.optics.models.design_proposed_single(\n",
    "    grid=grid,\n",
    "    num_distribution=0,\n",
    "\n",
    ")\n",
    "model.system.transformation"
   ],
   "id": "ae9504277bdf464f",
   "outputs": [],
   "execution_count": null
  },
  {
   "metadata": {},
   "cell_type": "code",
   "source": [
    "# fig, ax = plt.subplots(\n",
    "#     figsize=(6, 6.5),\n",
    "#     constrained_layout=True\n",
    "# )\n",
    "# ax.set_aspect(\"equal\")\n",
    "# model.system.plot(\n",
    "#     components=('x','y'),\n",
    "#     color=\"black\",\n",
    "#     kwargs_rays=dict(\n",
    "#         color=na.ScalarArray(np.array([\"tab:orange\", \"tab:blue\"]), axes=\"wavelength\"),\n",
    "#         label=model.system.grid_input.wavelength.astype(int),\n",
    "#     ),\n",
    "# );\n",
    "# handles, labels = ax.get_legend_handles_labels()\n",
    "# labels = dict(zip(labels, handles))\n",
    "# fig.legend(labels.values(), labels.keys());"
   ],
   "id": "initial_id",
   "outputs": [],
   "execution_count": null
  },
  {
   "metadata": {},
   "cell_type": "code",
   "source": [
    "fig, ax = plt.subplots()\n",
    "\n",
    "detector = model.system.surfaces[-1]\n",
    "detector_plot = detector.plot(components=('x', 'y'), ax=ax, transform=None)\n",
    "\n",
    "rays = model.system.rayfunction_default.outputs\n",
    "rays = rays[rays.unvignetted]\n",
    "rays = detector.transformation.inverse(rays)\n",
    "na.plt.scatter(rays.position.x,\n",
    "               rays.position.y)\n",
    "ax.set_aspect(\"equal\")\n",
    "\n",
    "fig, ax = plt.subplots()\n",
    "\n",
    "detector = model.system.surfaces_all[-1]\n",
    "detector_plot = detector.plot(\n",
    "    components=('x', 'y'),\n",
    "    ax=ax,\n",
    "    transformation=detector.transformation.inverse,\n",
    "    # transformation=None,\n",
    ")\n",
    "\n",
    "rays = model.system.rayfunction_default.outputs\n",
    "rays = detector.transformation.inverse(rays)\n",
    "na.plt.scatter(\n",
    "    rays.position.x,\n",
    "    rays.position.y,\n",
    "    where=rays.unvignetted,\n",
    ")\n"
   ],
   "id": "f7effeb60c0a1098",
   "outputs": [],
   "execution_count": null
  },
  {
   "metadata": {},
   "cell_type": "code",
   "source": "\n",
   "id": "819306666b415222",
   "outputs": [],
   "execution_count": null
  },
  {
   "metadata": {},
   "cell_type": "code",
   "source": "",
   "id": "b56ac9ece48714cd",
   "outputs": [],
   "execution_count": null
  },
  {
   "metadata": {},
   "cell_type": "code",
   "source": [
    "\n",
    "\n",
    "# fig, ax = plt.subplots(\n",
    "#     figsize=(6, 6.5),\n",
    "#     constrained_layout=True\n",
    "# )\n",
    "# ax.set_aspect(\"equal\")\n",
    "# model.system.plot(\n",
    "#     components=(\"x\", \"y\"),\n",
    "#     color=\"black\",\n",
    "#     kwargs_rays=dict(\n",
    "#         color=na.ScalarArray(np.array([\"tab:orange\", \"tab:blue\"]), axes=\"wavelength\"),\n",
    "#         label=model.system.grid_input.wavelength.astype(int),\n",
    "#     ),\n",
    "# )"
   ],
   "id": "8d2e7fefb807d6c5",
   "outputs": [],
   "execution_count": null
  },
  {
   "metadata": {},
   "cell_type": "code",
   "source": [
    "\n",
    "object_distance = np.sqrt(\n",
    "    np.square(model.grating.translation.z - model.field_stop.translation.z) + np.square(model.grating.distance_radial))\n",
    "image_distance = np.sqrt(np.square(model.grating.translation.z - model.detector.translation.z) +\n",
    "                         np.square(model.grating.distance_radial - model.detector.distance_radial)\n",
    "                         )\n",
    "magnification = image_distance / object_distance\n",
    "magnification\n"
   ],
   "id": "aab39678bbdd95f7",
   "outputs": [],
   "execution_count": null
  },
  {
   "metadata": {},
   "cell_type": "code",
   "source": [
    "print(model.primary_mirror.translation.z)\n",
    "print(model.field_stop.translation.z)\n",
    "print(model.grating.translation.z)\n",
    "print(model.detector.translation.z)"
   ],
   "id": "5ada8db0e78e5434",
   "outputs": [],
   "execution_count": null
  },
  {
   "metadata": {},
   "cell_type": "code",
   "source": "",
   "id": "e2651f274697d5a7",
   "outputs": [],
   "execution_count": null
  },
  {
   "metadata": {},
   "cell_type": "code",
   "source": "",
   "id": "e73748e4decd044",
   "outputs": [],
   "execution_count": null
  },
  {
   "metadata": {},
   "cell_type": "code",
   "source": [
    "hole_spacing = 4 * 25.4 * u.mm\n",
    "hole_spacing.to(u.mm)"
   ],
   "id": "4e5258591a040f16",
   "outputs": [],
   "execution_count": null
  },
  {
   "metadata": {},
   "cell_type": "code",
   "source": [
    "new_primary_f = model.primary_mirror.sag.focal_length + hole_spacing * 6\n",
    "new_primary_f\n"
   ],
   "id": "d77f48cf4c97d6c1",
   "outputs": [],
   "execution_count": null
  },
  {
   "metadata": {},
   "cell_type": "code",
   "source": "new_fs_z = -new_primary_f",
   "id": "7899709be82bea81",
   "outputs": [],
   "execution_count": null
  },
  {
   "metadata": {},
   "cell_type": "code",
   "source": [
    "extension_ratio = new_primary_f / (1000 * u.mm)\n",
    "extension_ratio"
   ],
   "id": "31492eceef6c3062",
   "outputs": [],
   "execution_count": null
  },
  {
   "metadata": {},
   "cell_type": "code",
   "source": [
    "\n",
    "old_grating_z = model.grating.translation.z - model.field_stop.translation.z\n",
    "new_grating_z = old_grating_z * extension_ratio + new_fs_z\n",
    "new_grating_z"
   ],
   "id": "1b7c873b69a1166e",
   "outputs": [],
   "execution_count": null
  },
  {
   "metadata": {},
   "cell_type": "code",
   "source": [
    "model.primary_mirror.sag.focal_length = new_primary_f\n",
    "model.field_stop.translation.z = new_fs_z\n",
    "model.grating.translation.z = new_grating_z + 30 * u.mm"
   ],
   "id": "5b4013caef461b6b",
   "outputs": [],
   "execution_count": null
  },
  {
   "metadata": {},
   "cell_type": "code",
   "source": "",
   "id": "e8ee89f1f67793cf",
   "outputs": [],
   "execution_count": null
  },
  {
   "metadata": {},
   "cell_type": "code",
   "source": [
    "object_distance = np.sqrt(\n",
    "    np.square(model.grating.translation.z - model.field_stop.translation.z) + np.square(model.grating.distance_radial))\n",
    "image_distance = np.sqrt(np.square(model.grating.translation.z - model.detector.translation.z) +\n",
    "                         np.square(model.grating.distance_radial - model.detector.distance_radial)\n",
    "                         )\n",
    "magnification = image_distance / object_distance\n",
    "magnification\n",
    "print(object_distance)\n",
    "print(image_distance)"
   ],
   "id": "68f0bad9d94aee5f",
   "outputs": [],
   "execution_count": null
  },
  {
   "metadata": {},
   "cell_type": "code",
   "source": [
    "new_grating_f = image_distance * object_distance / (image_distance + object_distance)\n",
    "new_grating_f"
   ],
   "id": "fa0b0d7b47f9e4de",
   "outputs": [],
   "execution_count": null
  },
  {
   "metadata": {},
   "cell_type": "code",
   "source": [
    "model.grating.sag.radius = 2 * new_grating_f.nominal\n",
    "model.grating.yaw = -2.5 * u.deg\n",
    "\n",
    "c0 = 1 / (1850 / u.mm)\n",
    "c1 = -2.852e-5 * (u.um / u.mm)\n",
    "c2 = -2.112e-7 * (u.um / u.mm ** 2)\n",
    "\n",
    "model.grating.rulings.spacing.coefficients[0].nominal = c0\n",
    "model.grating.rulings.spacing.coefficients[1].nominal = c1\n",
    "model.grating.rulings.spacing.coefficients[2].nominal = c2\n"
   ],
   "id": "32b46f37fe7dd93",
   "outputs": [],
   "execution_count": null
  },
  {
   "metadata": {},
   "cell_type": "code",
   "source": [
    "print(model.primary_mirror.translation.z)\n",
    "print(model.field_stop.transformation)\n",
    "print(model.grating.translation.z)\n",
    "print(model.detector.translation.z)\n",
    "\n",
    "model.central_obscuration.translation.z = model.grating.translation.z - 25 * u.mm\n",
    "model.front_aperture.translation.z = model.grating.translation.z - 100 * u.mm"
   ],
   "id": "bc93d38043a2b9bd",
   "outputs": [],
   "execution_count": null
  },
  {
   "metadata": {},
   "cell_type": "code",
   "source": "model.filter.radius_clear = 40 * u.mm",
   "id": "38580a335affb1ee",
   "outputs": [],
   "execution_count": null
  },
  {
   "metadata": {},
   "cell_type": "code",
   "source": "model.detector.yaw",
   "id": "826dcee37f03ae8",
   "outputs": [],
   "execution_count": null
  },
  {
   "metadata": {},
   "cell_type": "code",
   "source": [
    "del model.system\n",
    "\n",
    "wavelength = na.ScalarArray([465, 499] * u.AA, axes='wavelength')\n",
    "# rays = model.system.raytrace(wavelength=wavelength)\n",
    "# rays.outputs.shape"
   ],
   "id": "98cbb006432051d9",
   "outputs": [],
   "execution_count": null
  },
  {
   "metadata": {},
   "cell_type": "code",
   "source": "",
   "id": "6575205e0a25084e",
   "outputs": [],
   "execution_count": null
  },
  {
   "metadata": {},
   "cell_type": "code",
   "source": [
    "# fig, ax = plt.subplots(\n",
    "#     figsize=(6, 6.5),\n",
    "#     constrained_layout=True\n",
    "# )\n",
    "# ax.set_aspect(\"equal\")\n",
    "# model.system.plot(\n",
    "#     components=(\"z\", \"x\"),\n",
    "#     color=\"black\",\n",
    "#     kwargs_rays=dict(\n",
    "#         color=na.ScalarArray(np.array([\"tab:orange\", \"tab:blue\"]), axes=\"wavelength\"),\n",
    "#         label=model.system.grid_input.wavelength.astype(int),\n",
    "#     ),\n",
    "#     plot_rays_vignetted=False,\n",
    "#     # wavelength=wavelength,\n",
    "# )\n",
    "# handles, labels = ax.get_legend_handles_labels()\n",
    "# labels = dict(zip(labels, handles))\n",
    "# fig.legend(labels.values(), labels.keys());"
   ],
   "id": "cba946afa6ae24a7",
   "outputs": [],
   "execution_count": null
  },
  {
   "metadata": {},
   "cell_type": "code",
   "source": [
    "fig, ax = plt.subplots()\n",
    "\n",
    "detector = model.system.surfaces_all[-1]\n",
    "detector_plot = detector.plot(\n",
    "    components=('x', 'y'),\n",
    "    ax=ax,\n",
    "    transformation=detector.transformation.inverse,\n",
    "    # transformation=None,\n",
    ")\n",
    "\n",
    "rays = model.system.raytrace(wavelength=wavelength).outputs[dict(surface=-1)]\n",
    "\n",
    "rays = detector.transformation.inverse(rays)\n",
    "na.plt.scatter(\n",
    "    rays.position.x,\n",
    "    rays.position.y,\n",
    "    where=rays.unvignetted,\n",
    ")\n"
   ],
   "id": "7ec069f6074c390a",
   "outputs": [],
   "execution_count": null
  },
  {
   "metadata": {},
   "cell_type": "code",
   "source": [
    "x = rays.position.x\n",
    "x = x - x.mean(axis=('pupil_x', 'pupil_y'))\n",
    "y = rays.position.y\n",
    "y = y - y.mean(axis=('pupil_x', 'pupil_y'))\n",
    "rms_spot_size = np.sqrt(np.square(x) + np.square(y))\n",
    "rms_spot_size.to(u.um)"
   ],
   "id": "f7855b3745989477",
   "outputs": [],
   "execution_count": null
  },
  {
   "metadata": {},
   "cell_type": "code",
   "source": "np.abs(rays.position[dict(wavelength=0)].x.mean()) - 8 * u.mm",
   "id": "4b4705ff7da2e82",
   "outputs": [],
   "execution_count": null
  },
  {
   "metadata": {},
   "cell_type": "code",
   "source": [
    "def esis_ii_merit(\n",
    "        guesses,\n",
    "        model=None,\n",
    "        # wavelength = None, \n",
    "        weight=None,\n",
    "        # units = None\n",
    "):\n",
    "    # guess = [guess*unit for guess,unit in zip(guesses,units)]\n",
    "    print(guesses)\n",
    "    grating_yaw, grating_c0, grating_c1, grating_c2, grating_roc, detector_yaw = guesses\n",
    "\n",
    "    model.grating.yaw = grating_yaw * u.deg\n",
    "    model.grating.rulings.spacing.coefficients[0] = grating_c0 * u.mm\n",
    "    model.grating.rulings.spacing.coefficients[1] = grating_c1 * u.um / u.mm\n",
    "    model.grating.rulings.spacing.coefficients[2] = grating_c2 * u.um / u.mm ** 2\n",
    "    model.grating.sag.radius = grating_roc * u.mm\n",
    "    model.detector.yaw = detector_yaw * u.deg\n",
    "\n",
    "    wavelength = na.ScalarArray([465, 499] * u.AA, axes='wavelength')\n",
    "\n",
    "    del model.system\n",
    "    rays = model.system.raytrace(wavelength=wavelength).outputs[dict(surface=-1)]\n",
    "    detector = model.system.surfaces_all[-1]\n",
    "\n",
    "    rays = detector.transformation.inverse(rays)\n",
    "\n",
    "    x = rays.position.x\n",
    "    x = x - x.mean(axis=('pupil_x', 'pupil_y'))\n",
    "    y = rays.position.y\n",
    "    y = y - y.mean(axis=('pupil_x', 'pupil_y'))\n",
    "\n",
    "    r_squared = np.square(x) + np.square(y)\n",
    "    rms_spot_size = np.sqrt(r_squared)\n",
    "\n",
    "    t1 = np.abs(rays.position[dict(wavelength=0)].x.mean()) - 7.35 * u.mm\n",
    "    t2 = np.abs(rays.position[dict(wavelength=-1)].x.mean()) - 7.35 * u.mm\n",
    "\n",
    "    t = rms_spot_size.mean().nominal\n",
    "    merit = t + weight * np.sqrt(np.square(t1.nominal) + np.square(t2.nominal))\n",
    "\n",
    "    print(t.value, t1.nominal.value, t2.nominal.value)\n",
    "    print(merit.ndarray.value)\n",
    "    return merit.ndarray.value\n",
    "\n",
    "\n",
    "\n"
   ],
   "id": "f8e154ed4a1c0f39",
   "outputs": [],
   "execution_count": null
  },
  {
   "metadata": {},
   "cell_type": "code",
   "source": "model.grating.sag.radius",
   "id": "1480912c54bfb959",
   "outputs": [],
   "execution_count": null
  },
  {
   "metadata": {},
   "cell_type": "code",
   "source": [
    "from scipy.optimize import minimize, differential_evolution\n",
    "\n",
    "guess = [\n",
    "    model.grating.yaw,\n",
    "    model.grating.rulings.spacing.coefficients[0].nominal,\n",
    "    model.grating.rulings.spacing.coefficients[1].nominal,\n",
    "    model.grating.rulings.spacing.coefficients[2].nominal,\n",
    "    model.grating.sag.radius,\n",
    "    model.detector.yaw\n",
    "]\n",
    "guess_units = [g.unit for g in guess]\n",
    "print(guess_units)\n",
    "\n",
    "guess_values = [g.value for g in guess]\n",
    "guess_values = [-2.47016209e+00, 5.49599486e-04, -1.80866504e-05, -1.08341748e-07,\n",
    "                9.17468102e+02, -1.04771264e+01]\n",
    "\n",
    "print(guess_values)\n"
   ],
   "id": "340d2868febb39be",
   "outputs": [],
   "execution_count": null
  },
  {
   "metadata": {},
   "cell_type": "code",
   "source": "",
   "id": "4b93b7c488280c09",
   "outputs": [],
   "execution_count": null
  },
  {
   "metadata": {},
   "cell_type": "code",
   "source": [
    "\n",
    "\n",
    "esis_ii_merit(guess_values, model=model, weight=1)\n",
    "\n",
    "bounds = [(-2.6, -2.45), (1 / 1900, 1 / 1800), (-3e-5, -1e-5), (-2.15e-7, -1e-7), (917, 921), (-15, -10)]\n",
    "\n",
    "fit = minimize(esis_ii_merit, guess_values, (model, 1),\n",
    "               bounds=bounds,\n",
    "               )\n",
    "# fit = differential_evolution(esis_ii_merit,x0=guess_values,args = (model,1),bounds=bounds)\n"
   ],
   "id": "ee053e0016ea7a56",
   "outputs": [],
   "execution_count": null
  },
  {
   "metadata": {},
   "cell_type": "code",
   "source": [
    "guess = [-2.53962948e+00, 5.34862656e-04, -2.10590822e-05, -1.94958850e-07,\n",
    "         9.18952281e+02, -1.22332163e+01]\n",
    "\n",
    "guess = [-2.47016209e+00, 5.49599486e-04, -1.80866504e-05, -1.08341748e-07,\n",
    "         9.17468102e+02, -1.04771264e+01]\n",
    "\n",
    "# guess = [-2.53962948e+00,  0, 0, 0,\n",
    "#   9.1895221e+02, 0]\n",
    "\n",
    "# grating_yaw, grating_c0, grating_c1, grating_c2, grating_roc, detector_yaw = fit.x\n",
    "grating_yaw, grating_c0, grating_c1, grating_c2, grating_roc, detector_yaw = guess\n",
    "\n",
    "model.grating.yaw = grating_yaw * u.deg\n",
    "model.grating.rulings.spacing.coefficients[0] = grating_c0 * u.mm\n",
    "model.grating.rulings.spacing.coefficients[1] = grating_c1 * u.um / u.mm\n",
    "model.grating.rulings.spacing.coefficients[2] = grating_c2 * u.um / u.mm ** 2\n",
    "model.grating.sag.radius = grating_roc * u.mm\n",
    "model.detector.yaw = detector_yaw * u.deg"
   ],
   "id": "8ce6d82e000b4156",
   "outputs": [],
   "execution_count": null
  },
  {
   "metadata": {},
   "cell_type": "code",
   "source": "# model.grating.distance_radial = 21 * u.mm",
   "id": "529e166965bad0a",
   "outputs": [],
   "execution_count": null
  },
  {
   "metadata": {},
   "cell_type": "code",
   "source": [
    "del model.system\n",
    "fig, ax = plt.subplots(\n",
    "    figsize=(6, 6.5),\n",
    "    constrained_layout=True\n",
    ")\n",
    "ax.set_aspect(\"equal\")\n",
    "model.system.plot(\n",
    "    components=(\"z\", \"x\"),\n",
    "    color=\"black\",\n",
    "    kwargs_rays=dict(\n",
    "        color=na.ScalarArray(np.array([\"tab:orange\", \"tab:blue\"]), axes=\"wavelength\"),\n",
    "        label=model.system.grid_input.wavelength.astype(int),\n",
    "    ),\n",
    "    plot_rays_vignetted=False,\n",
    "    # wavelength=wavelength,\n",
    ")\n",
    "handles, labels = ax.get_legend_handles_labels()\n",
    "labels = dict(zip(labels, handles))\n",
    "fig.legend(labels.values(), labels.keys());"
   ],
   "id": "1872897d633c150e",
   "outputs": [],
   "execution_count": null
  },
  {
   "metadata": {},
   "cell_type": "code",
   "source": [
    "fig, ax = plt.subplots()\n",
    "\n",
    "detector = model.system.surfaces_all[-1]\n",
    "detector_plot = detector.plot(\n",
    "    components=('x', 'y'),\n",
    "    ax=ax,\n",
    "    transformation=detector.transformation.inverse,\n",
    "    # transformation=None,\n",
    ")\n",
    "del model.system\n",
    "rays = model.system.raytrace(wavelength=wavelength).outputs[dict(surface=-1)]\n",
    "\n",
    "rays = detector.transformation.inverse(rays)\n",
    "na.plt.scatter(\n",
    "    rays.position.x,\n",
    "    rays.position.y,\n",
    "    where=rays.unvignetted,\n",
    ")"
   ],
   "id": "894e7cb4e5b4076",
   "outputs": [],
   "execution_count": null
  },
  {
   "metadata": {},
   "cell_type": "code",
   "source": "",
   "id": "a2a13a1aac6c1975",
   "outputs": [],
   "execution_count": null
  },
  {
   "metadata": {},
   "cell_type": "code",
   "source": "",
   "id": "e48833d01c6c6433",
   "outputs": [],
   "execution_count": null
  }
 ],
 "metadata": {
  "kernelspec": {
   "display_name": "Python 3",
   "language": "python",
   "name": "python3"
  },
  "language_info": {
   "codemirror_mode": {
    "name": "ipython",
    "version": 2
   },
   "file_extension": ".py",
   "mimetype": "text/x-python",
   "name": "python",
   "nbconvert_exporter": "python",
   "pygments_lexer": "ipython2",
   "version": "2.7.6"
  }
 },
 "nbformat": 4,
 "nbformat_minor": 5
}
