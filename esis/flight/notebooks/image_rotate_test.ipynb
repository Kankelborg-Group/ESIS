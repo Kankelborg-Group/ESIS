{
 "cells": [
  {
   "cell_type": "code",
   "execution_count": 49,
   "metadata": {
    "collapsed": true
   },
   "outputs": [],
   "source": [
    "from PIL import Image, ImageSequence\n",
    "import numpy as np\n",
    "import functools\n",
    "import kgpy.img.coalignment.image_coalignment as img_align\n",
    "from numba import njit\n",
    "from skimage.transform import rotate\n",
    "import scipy.ndimage\n"
   ]
  },
  {
   "cell_type": "markdown",
   "source": [
    "# Image Rotation in Python\n",
    "Start first by testing out three different rotation codes and compare their speeds."
   ],
   "metadata": {
    "collapsed": false,
    "pycharm": {
     "name": "#%% md\n"
    }
   }
  },
  {
   "cell_type": "code",
   "execution_count": 50,
   "outputs": [],
   "source": [
    "a = np.random.rand(500, 500)\n",
    "\n"
   ],
   "metadata": {
    "collapsed": false,
    "pycharm": {
     "name": "#%%\n"
    }
   }
  },
  {
   "cell_type": "code",
   "execution_count": 51,
   "outputs": [],
   "source": [
    "\n",
    "def pillow_rotate(a,angle):\n",
    "    if a.ndim == 2:\n",
    "        im = Image.fromarray(a)\n",
    "        im.rotate(angle,Image.BILINEAR)\n",
    "        a = np.asarray(im)\n",
    "    else:    \n",
    "        b = np.moveaxis(a,-1,0)\n",
    "        for i,img in enumerate(b):\n",
    "            im = Image.fromarray(img)\n",
    "            im.rotate(angle,Image.BILINEAR)\n",
    "            a[...,i] = np.asarray(im)\n",
    "\n",
    "    return a\n"
   ],
   "metadata": {
    "collapsed": false,
    "pycharm": {
     "name": "#%%\n"
    }
   }
  },
  {
   "cell_type": "code",
   "execution_count": 52,
   "outputs": [],
   "source": [
    "ang = 10\n",
    "\n",
    "# %timeit pillow_rotate(a,ang)\n",
    "# %timeit rotate(a, ang, order=1)\n",
    "# %timeit rotate(a, ang, order=3)\n",
    "# %timeit scipy.ndimage.rotate(a,ang,prefilter = False, order = 1)\n",
    "# %timeit scipy.ndimage.rotate(a,ang)\n"
   ],
   "metadata": {
    "collapsed": false,
    "pycharm": {
     "name": "#%%\n"
    }
   }
  },
  {
   "cell_type": "markdown",
   "source": [
    "Since MART (for ESIS) relies heavily on repeated rotation calls let's test breaking up parts of the rotation and include\n",
    "some \"memoisation\" (Thanks Roy)"
   ],
   "metadata": {
    "collapsed": false,
    "pycharm": {
     "name": "#%% md\n"
    }
   }
  },
  {
   "cell_type": "code",
   "execution_count": 53,
   "outputs": [],
   "source": [
    "@functools.lru_cache(maxsize = 1)\n",
    "def coord_rotate(img_shp,angle,origin):\n",
    "\n",
    "    x, y = np.array(np.meshgrid(np.arange(img_shp[0]), np.arange(img_shp[1])))\n",
    "    c = np.cos(angle)\n",
    "    s = np.sin(angle)\n",
    "    x_prime = c*(x-origin[0]) + s*(y-origin[1])\n",
    "    y_prime = -s*(x-origin[0]) + c*(y-origin[1])\n",
    "    return np.array([x_prime+origin[0],y_prime+origin[1]])"
   ],
   "metadata": {
    "collapsed": false,
    "pycharm": {
     "name": "#%%\n"
    }
   }
  },
  {
   "cell_type": "code",
   "execution_count": 54,
   "outputs": [
    {
     "ename": "TypeError",
     "evalue": "unhashable type: 'numpy.ndarray'",
     "output_type": "error",
     "traceback": [
      "\u001B[0;31m---------------------------------------------------------------------------\u001B[0m",
      "\u001B[0;31mTypeError\u001B[0m                                 Traceback (most recent call last)",
      "\u001B[0;32m<ipython-input-54-314a4044c350>\u001B[0m in \u001B[0;36m<module>\u001B[0;34m\u001B[0m\n\u001B[1;32m      1\u001B[0m \u001B[0morigin\u001B[0m \u001B[0;34m=\u001B[0m \u001B[0mnp\u001B[0m\u001B[0;34m.\u001B[0m\u001B[0marray\u001B[0m\u001B[0;34m(\u001B[0m\u001B[0;34m[\u001B[0m\u001B[0ma\u001B[0m\u001B[0;34m.\u001B[0m\u001B[0mshape\u001B[0m\u001B[0;34m[\u001B[0m\u001B[0;36m0\u001B[0m\u001B[0;34m]\u001B[0m\u001B[0;34m//\u001B[0m\u001B[0;36m2\u001B[0m\u001B[0;34m,\u001B[0m\u001B[0ma\u001B[0m\u001B[0;34m.\u001B[0m\u001B[0mshape\u001B[0m\u001B[0;34m[\u001B[0m\u001B[0;36m1\u001B[0m\u001B[0;34m]\u001B[0m\u001B[0;34m//\u001B[0m\u001B[0;36m2\u001B[0m\u001B[0;34m]\u001B[0m\u001B[0;34m)\u001B[0m\u001B[0;34m\u001B[0m\u001B[0;34m\u001B[0m\u001B[0m\n\u001B[0;32m----> 2\u001B[0;31m \u001B[0mprime_coords\u001B[0m \u001B[0;34m=\u001B[0m \u001B[0mcoord_rotate\u001B[0m\u001B[0;34m(\u001B[0m\u001B[0ma\u001B[0m\u001B[0;34m.\u001B[0m\u001B[0mshape\u001B[0m\u001B[0;34m,\u001B[0m\u001B[0mang\u001B[0m\u001B[0;34m,\u001B[0m\u001B[0morigin\u001B[0m\u001B[0;34m)\u001B[0m\u001B[0;34m\u001B[0m\u001B[0;34m\u001B[0m\u001B[0m\n\u001B[0m\u001B[1;32m      3\u001B[0m \u001B[0;34m\u001B[0m\u001B[0m\n",
      "\u001B[0;31mTypeError\u001B[0m: unhashable type: 'numpy.ndarray'"
     ]
    }
   ],
   "source": [
    "origin = np.array([a.shape[0]//2,a.shape[1]//2])\n",
    "prime_coords = coord_rotate(a.shape,ang,origin)\n"
   ],
   "metadata": {
    "collapsed": false,
    "pycharm": {
     "name": "#%%\n"
    }
   }
  }
 ],
 "metadata": {
  "kernelspec": {
   "display_name": "Python 3",
   "language": "python",
   "name": "python3"
  },
  "language_info": {
   "codemirror_mode": {
    "name": "ipython",
    "version": 2
   },
   "file_extension": ".py",
   "mimetype": "text/x-python",
   "name": "python",
   "nbconvert_exporter": "python",
   "pygments_lexer": "ipython2",
   "version": "2.7.6"
  }
 },
 "nbformat": 4,
 "nbformat_minor": 0
}