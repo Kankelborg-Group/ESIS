{
 "cells": [
  {
   "cell_type": "markdown",
   "metadata": {
    "collapsed": true,
    "pycharm": {
     "name": "#%% md\n"
    }
   },
   "source": [
    "from PIL import Image, ImageSequence\n",
    "import numpy as np\n",
    "import functools\n",
    "import kgpy.img.coalignment.image_coalignment as img_align\n",
    "from numba import njit\n",
    "from skimage.transform import rotate\n",
    "import scipy.ndimage\n",
    "import matplotlib.pyplot as plt\n",
    "import astropy.units as u\n",
    "import time\n"
   ]
  },
  {
   "cell_type": "markdown",
   "source": [
    "# Image Rotation in Python\n",
    "Start first by testing out three different rotation codes and compare their speeds."
   ],
   "metadata": {
    "collapsed": false,
    "pycharm": {
     "name": "#%% md\n"
    }
   }
  },
  {
   "cell_type": "code",
   "execution_count": 1,
   "outputs": [
    {
     "ename": "NameError",
     "evalue": "name 'np' is not defined",
     "output_type": "error",
     "traceback": [
      "\u001B[1;31m---------------------------------------------------------------------------\u001B[0m",
      "\u001B[1;31mNameError\u001B[0m                                 Traceback (most recent call last)",
      "Input \u001B[1;32mIn [1]\u001B[0m, in \u001B[0;36m<module>\u001B[1;34m\u001B[0m\n\u001B[0;32m      1\u001B[0m \u001B[38;5;66;03m# a = np.random.rand(500, 500)\u001B[39;00m\n\u001B[1;32m----> 2\u001B[0m a \u001B[38;5;241m=\u001B[39m \u001B[43mnp\u001B[49m\u001B[38;5;241m.\u001B[39mones((\u001B[38;5;241m1000\u001B[39m, \u001B[38;5;241m1000\u001B[39m))\n",
      "\u001B[1;31mNameError\u001B[0m: name 'np' is not defined"
     ]
    }
   ],
   "source": [
    "# a = np.random.rand(500, 500)\n",
    "a = np.ones((1000, 1000))\n",
    "\n"
   ],
   "metadata": {
    "collapsed": false,
    "pycharm": {
     "name": "#%%\n"
    }
   }
  },
  {
   "cell_type": "code",
   "execution_count": null,
   "outputs": [],
   "source": [
    "\n",
    "def pillow_rotate(a,angle):\n",
    "    if a.ndim == 2:\n",
    "        im = Image.fromarray(a)\n",
    "        im.rotate(angle,Image.BILINEAR)\n",
    "        a = np.asarray(im)\n",
    "    else:    \n",
    "        b = np.moveaxis(a,-1,0)\n",
    "        for i,img in enumerate(b):\n",
    "            im = Image.fromarray(img)\n",
    "            im.rotate(angle,Image.BILINEAR)\n",
    "            a[...,i] = np.asarray(im)\n",
    "\n",
    "    return a\n"
   ],
   "metadata": {
    "collapsed": false,
    "pycharm": {
     "name": "#%%\n"
    }
   }
  },
  {
   "cell_type": "code",
   "execution_count": null,
   "outputs": [],
   "source": [
    "ang = 10 * u.deg\n",
    "# %timeit pillow_rotate(a,ang)\n",
    "# %timeit rotate(a, ang, order=1)\n",
    "# %timeit rotate(a, ang, order=3)\n",
    "# %timeit scipy.ndimage.rotate(a,ang,prefilter = False, order = 1)\n",
    "\n",
    "%time test = scipy.ndimage.rotate(a,ang,reshape = False)\n"
   ],
   "metadata": {
    "collapsed": false,
    "pycharm": {
     "name": "#%%\n"
    }
   }
  },
  {
   "cell_type": "code",
   "execution_count": null,
   "outputs": [],
   "source": [
    "def coord_rotate(img_shp,angle,origin):\n",
    "    y,x = np.array(np.meshgrid(np.arange(img_shp[0]), np.arange(img_shp[1]))) - origin[...,None,None]\n",
    "\n",
    "    c = np.cos(angle)\n",
    "    s = np.sin(angle)\n",
    "\n",
    "    x_prime = c*x + s*y\n",
    "    y_prime = -s*x + c*y\n",
    "\n",
    "    prime_coords = np.array([x_prime+origin[0],y_prime+origin[1]])\n",
    "    return prime_coords"
   ],
   "metadata": {
    "collapsed": false,
    "pycharm": {
     "name": "#%%\n"
    }
   }
  },
  {
   "cell_type": "code",
   "execution_count": null,
   "outputs": [],
   "source": [
    "origin = np.array([(a.shape[0]-1)/2,(a.shape[1]-1)/2])\n",
    "%time prime_coords = coord_rotate(a.shape,ang,origin)\n",
    "%time rot_a = scipy.ndimage.map_coordinates(a,prime_coords)"
   ],
   "metadata": {
    "collapsed": false,
    "pycharm": {
     "name": "#%%\n"
    }
   }
  },
  {
   "cell_type": "code",
   "execution_count": null,
   "outputs": [],
   "source": [
    "fig, ax = plt.subplots()\n",
    "ax.imshow(rot_a)\n",
    "fig, ax = plt.subplots()\n",
    "ax.imshow(test)\n",
    "fig, ax = plt.subplots()\n",
    "ax.imshow(rot_a-test)\n",
    "print(np.sum(rot_a-test))"
   ],
   "metadata": {
    "collapsed": false,
    "pycharm": {
     "name": "#%%\n"
    }
   }
  }
 ],
 "metadata": {
  "kernelspec": {
   "display_name": "Python 3",
   "language": "python",
   "name": "python3"
  },
  "language_info": {
   "codemirror_mode": {
    "name": "ipython",
    "version": 2
   },
   "file_extension": ".py",
   "mimetype": "text/x-python",
   "name": "python",
   "nbconvert_exporter": "python",
   "pygments_lexer": "ipython2",
   "version": "2.7.6"
  }
 },
 "nbformat": 4,
 "nbformat_minor": 0
}