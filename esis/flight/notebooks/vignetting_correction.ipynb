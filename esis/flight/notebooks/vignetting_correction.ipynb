{
 "cells": [
  {
   "cell_type": "code",
   "execution_count": 1,
   "metadata": {},
   "outputs": [],
   "source": [
    "%reload_ext autoreload\n",
    "%autoreload 2\n",
    "\n",
    "import matplotlib.pyplot as plt\n",
    "import numpy as np\n",
    "from esis.data import level_3\n",
    "from kgpy.img.coalignment import image_coalignment as img_align\n",
    "import scipy.signal\n",
    "\n",
    "plt.rcParams['figure.figsize'] = [10, 10]\n"
   ]
  },
  {
   "cell_type": "markdown",
   "metadata": {
    "pycharm": {
     "name": "#%% md\n"
    }
   },
   "source": [
    "## ESIS Level 3 Vignetting Correction\n",
    "A discrepancy between our optical models prediction of the vignetting function my initial fits has led me\n",
    "to run my correction routines test images with a known vignetting.  To do so I have simply replaced each ESIS image with\n",
    "the best co-temporal AIA 304 image within the Level_3 object.\n",
    "\n"
   ]
  },
  {
   "cell_type": "code",
   "execution_count": 2,
   "metadata": {},
   "outputs": [
    {
     "ename": "AttributeError",
     "evalue": "module 'esis.data.level_3' has no attribute 'masked_pickle'",
     "output_type": "error",
     "traceback": [
      "\u001B[0;31m---------------------------------------------------------------------------\u001B[0m",
      "\u001B[0;31mAttributeError\u001B[0m                            Traceback (most recent call last)",
      "\u001B[0;32m<ipython-input-2-95c833a1ddac>\u001B[0m in \u001B[0;36m<module>\u001B[0;34m\u001B[0m\n\u001B[0;32m----> 1\u001B[0;31m \u001B[0mlev3\u001B[0m \u001B[0;34m=\u001B[0m \u001B[0mlevel_3\u001B[0m\u001B[0;34m.\u001B[0m\u001B[0mLevel3\u001B[0m\u001B[0;34m.\u001B[0m\u001B[0mfrom_pickle\u001B[0m\u001B[0;34m(\u001B[0m\u001B[0mlevel_3\u001B[0m\u001B[0;34m.\u001B[0m\u001B[0mmasked_pickle\u001B[0m\u001B[0;34m)\u001B[0m\u001B[0;34m\u001B[0m\u001B[0;34m\u001B[0m\u001B[0m\n\u001B[0m\u001B[1;32m      2\u001B[0m \u001B[0mtest_cube\u001B[0m \u001B[0;34m=\u001B[0m \u001B[0mlev3\u001B[0m\u001B[0;34m.\u001B[0m\u001B[0mto_test_object\u001B[0m\u001B[0;34m(\u001B[0m\u001B[0;34m)\u001B[0m\u001B[0;34m\u001B[0m\u001B[0;34m\u001B[0m\u001B[0m\n\u001B[1;32m      3\u001B[0m \u001B[0;34m\u001B[0m\u001B[0m\n",
      "\u001B[0;31mAttributeError\u001B[0m: module 'esis.data.level_3' has no attribute 'masked_pickle'"
     ]
    }
   ],
   "source": [
    "lev3 = level_3.Level_3.from_pickle(level_3.masked_pickle)\n",
    "test_cube = lev3.to_test_object()"
   ]
  },
  {
   "cell_type": "code",
   "execution_count": null,
   "outputs": [],
   "source": [
    "sequence = 15\n",
    "\n",
    "fig, ax = plt.subplots(2,2,subplot_kw={'projection': test_cube.observation.wcs[sequence,0]})\n",
    "\n",
    "z = 0\n",
    "for i in range(2):\n",
    "    for j in range(2):\n",
    "        mimg = test_cube.observation.data[sequence,z]*test_cube.observation.mask[sequence,z]\n",
    "        ax[i,j].imshow(mimg,origin = 'lower',vmax = np.percentile(mimg,99.9))\n",
    "        z += 1\n",
    "plt.show()"
   ],
   "metadata": {
    "collapsed": false,
    "pycharm": {
     "name": "#%%\n"
    }
   }
  },
  {
   "cell_type": "markdown",
   "source": [
    "Next we will apply a vignetting field of known scale to the cube."
   ],
   "metadata": {
    "collapsed": false,
    "pycharm": {
     "name": "#%% md\n"
    }
   }
  },
  {
   "cell_type": "code",
   "execution_count": null,
   "outputs": [],
   "source": [
    "kernel = np.zeros((11,11))\n",
    "origin = (5,5)\n",
    "width_x,width_y= (.5,8)\n",
    "x,y = img_align.get_img_coords(kernel)\n",
    "x -= origin[0]\n",
    "y -= origin[1]\n",
    "\n",
    "angles = -(np.arange(4))*45 - 22.5 -90\n",
    "angles = np.deg2rad(angles)\n",
    "\n",
    "gaussians = []\n",
    "for angle in angles:\n",
    "    x_prime = x*np.cos(angle) + y*np.sin(angle)\n",
    "    y_prime = x*np.sin(angle) - y*np.cos(angle)\n",
    "    gaussians.append(np.exp(-(np.square(x_prime)/width_x+np.square(y_prime)/width_y)))\n",
    "\n",
    "z = 0\n",
    "fig,ax = plt.subplots(2,2)\n",
    "\n",
    "for i in range(2):\n",
    "    for j in range(2):\n",
    "        ax[i,j].imshow(gaussians[z])\n",
    "        z+=1\n",
    "\n",
    "for l3_seq,l1_seq in enumerate(test_cube.lev1_sequences):\n",
    "    for l3_cam,l1_cam in enumerate(test_cube.lev1_cameras):\n",
    "            test_cube.observation.data[l3_seq,l3_cam] = scipy.signal.convolve2d(\n",
    "                test_cube.observation.data[l3_seq,l3_cam],gaussians[l3_cam]/gaussians[l3_cam].sum(),mode='same')\n",
    "\n"
   ],
   "metadata": {
    "collapsed": false,
    "pycharm": {
     "name": "#%%\n"
    }
   }
  },
  {
   "cell_type": "code",
   "execution_count": null,
   "outputs": [],
   "source": [
    "scale = np.array([.25,.4,.3,.5])\n",
    "\n",
    "vignetting = test_cube.correct_vignetting(scale)\n",
    "\n",
    "test_cube.observation.data[...] *= vignetting\n",
    "gains = [.75,3,1.5,.3]\n",
    "noise_amp = 10\n",
    "for i,gain in enumerate(gains):\n",
    "    test_cube.observation.data[:,i] *= gain\n",
    "\n",
    "test_cube.observation.data[...] += (noise_amp*np.random.random(test_cube.observation.data[...].shape)-noise_amp/2)\n",
    "\n",
    "\n",
    "fig, ax = plt.subplots(2,2,subplot_kw={'projection': test_cube.observation.wcs[sequence,0]})\n",
    "\n",
    "z = 0\n",
    "for i in range(2):\n",
    "    for j in range(2):\n",
    "        mimg = test_cube.observation.data[sequence,z]*test_cube.observation.mask[sequence,z]\n",
    "        ax[i,j].imshow(mimg,origin = 'lower',vmax = 500)\n",
    "        z += 1\n",
    "plt.show()"
   ],
   "metadata": {
    "collapsed": false,
    "pycharm": {
     "name": "#%%\n"
    }
   }
  },
  {
   "cell_type": "code",
   "execution_count": null,
   "outputs": [],
   "source": [
    "normalized_vignetted_imgs = test_cube.observation.data / test_cube.masked_mean_normalization()\n",
    "\n",
    "scale = 1\n",
    "\n",
    "fig, ax = plt.subplots()\n",
    "ax.imshow(normalized_vignetted_imgs[sequence,2]-normalized_vignetted_imgs[sequence,1], vmin = -scale,vmax = scale)\n",
    "plt.show()\n"
   ],
   "metadata": {
    "collapsed": false,
    "pycharm": {
     "name": "#%%\n"
    }
   }
  },
  {
   "cell_type": "code",
   "execution_count": null,
   "outputs": [],
   "source": [
    "fit = level_3.find_vignetting_correction(test_cube)\n",
    "print(fit)\n",
    "vignette_correction = test_cube.correct_vignetting(fit.x)\n",
    "\n",
    "test_cube.observation.data[...] /= vignette_correction\n",
    "test_cube.observation.data[...] /= test_cube.masked_mean_normalization()\n",
    "\n"
   ],
   "metadata": {
    "collapsed": false,
    "pycharm": {
     "name": "#%%\n"
    }
   }
  },
  {
   "cell_type": "code",
   "execution_count": null,
   "outputs": [],
   "source": [
    "fig, ax = plt.subplots()\n",
    "ax.imshow(test_cube.observation.data[sequence,2]-test_cube.observation.data[sequence,1], vmin = -scale,vmax = scale)\n",
    "plt.show()"
   ],
   "metadata": {
    "collapsed": false,
    "pycharm": {
     "name": "#%%\n"
    }
   }
  }
 ],
 "metadata": {
  "kernelspec": {
   "display_name": "Python 3",
   "language": "python",
   "name": "python3"
  },
  "language_info": {
   "codemirror_mode": {
    "name": "ipython",
    "version": 3
   },
   "file_extension": ".py",
   "mimetype": "text/x-python",
   "name": "python",
   "nbconvert_exporter": "python",
   "pygments_lexer": "ipython3",
   "version": "3.7.6"
  }
 },
 "nbformat": 4,
 "nbformat_minor": 1
}